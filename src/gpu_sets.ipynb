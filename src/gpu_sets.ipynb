{
 "cells": [
  {
   "cell_type": "code",
   "execution_count": null,
   "metadata": {},
   "outputs": [],
   "source": [
    "import tensorflow as tf\n",
    "from tensorflow.keras.wrappers.scikit_learn import KerasClassifier\n",
    "from sklearn.model_selection import GridSearchCV\n",
    "# Verificar si hay GPUs disponibles\n",
    "gpus = tf.config.list_physical_devices('GPU')\n",
    "if gpus:\n",
    "    print(f\"GPUs disponibles: {len(gpus)}\")\n",
    "    for gpu in gpus:\n",
    "        print(f\"  - {gpu}\")\n",
    "else:\n",
    "    print(\"No se encontraron GPUs disponibles.\")\n",
    "# Definir una función para crear el modelo Keras\n",
    "def create_model():\n",
    "    model = tf.keras.models.Sequential([\n",
    "        tf.keras.layers.Dense(128, activation='relu', input_shape=(784,)),\n",
    "        tf.keras.layers.Dense(64, activation='relu'),\n",
    "        tf.keras.layers.Dense(10, activation='softmax')\n",
    "    ])\n",
    "    model.compile(optimizer='adam', loss='sparse_categorical_crossentropy', metrics=['accuracy'])\n",
    "    return model\n",
    "# Crear un clasificador Keras envuelto para scikit-learn\n",
    "model = KerasClassifier(build_fn=create_model, verbose=0)\n",
    "# Definir los hiperparámetros para la búsqueda\n",
    "param_grid = {\n",
    "    'batch_size': [32, 64],\n",
    "    'epochs': [10, 20]\n",
    "}\n",
    "# Cargar datos de ejemplo (usaremos el dataset MNIST)\n",
    "(X_train, y_train), (X_test, y_test) = tf.keras.datasets.mnist.load_data()\n",
    "X_train = X_train.reshape(-1, 784).astype('float32') / 255\n",
    "X_test = X_test.reshape(-1, 784).astype('float32') / 255\n",
    "# Crear y ejecutar GridSearchCV\n",
    "grid = GridSearchCV(estimator=model, param_grid=param_grid, n_jobs=1, cv=3)\n",
    "grid_result = grid.fit(X_train, y_train)\n",
    "# Imprimir los resultados de la mejor configuración encontrada\n",
    "print(f\"Mejor: {grid_result.best_score_} usando {grid_result.best_params_}\")"
   ]
  },
  {
   "cell_type": "code",
   "execution_count": null,
   "metadata": {},
   "outputs": [],
   "source": [
    "import tensorflow as tf\n",
    "from tensorflow.python.client import device_lib\n",
    "\n",
    "def print_info():\n",
    "    print('TensorFlow Version: {}'.format(tf.__version__))\n",
    "    print('GPU: {}'.format([x.physical_device_desc for x in device_lib.list_local_devices() if x.device_type == 'GPU']))\n",
    "    print('CUDA Version: {}'.format(tf.sysconfig.get_build_info()['cuda_version']))\n",
    "    print('cuDNN Version: {}\\n'.format(tf.sysconfig.get_build_info()['cudnn_version']))\n",
    "\n",
    "print_info()"
   ]
  }
 ],
 "metadata": {
  "language_info": {
   "name": "python"
  }
 },
 "nbformat": 4,
 "nbformat_minor": 2
}
